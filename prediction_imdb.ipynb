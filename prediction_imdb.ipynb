{
 "cells": [
  {
   "cell_type": "code",
   "execution_count": 1,
   "metadata": {},
   "outputs": [],
   "source": [
    "# Import the libraries and load the model\n",
    "import numpy as np\n",
    "import pandas as pd\n",
    "import tensorflow as tf\n",
    "from tensorflow.keras.datasets import imdb\n",
    "from tensorflow.keras.preprocessing import sequence\n",
    "from tensorflow.keras.models import load_model"
   ]
  },
  {
   "cell_type": "code",
   "execution_count": 2,
   "metadata": {},
   "outputs": [],
   "source": [
    "# Load the imdb dataset word index\n",
    "word_index = imdb.get_word_index()\n",
    "reversed_word_index = {value:key for key, value in word_index.items()}"
   ]
  },
  {
   "cell_type": "code",
   "execution_count": 3,
   "metadata": {},
   "outputs": [
    {
     "name": "stderr",
     "output_type": "stream",
     "text": [
      "WARNING:absl:Compiled the loaded model, but the compiled metrics have yet to be built. `model.compile_metrics` will be empty until you train or evaluate the model.\n"
     ]
    },
    {
     "data": {
      "text/html": [
       "<pre style=\"white-space:pre;overflow-x:auto;line-height:normal;font-family:Menlo,'DejaVu Sans Mono',consolas,'Courier New',monospace\"><span style=\"font-weight: bold\">Model: \"sequential_5\"</span>\n",
       "</pre>\n"
      ],
      "text/plain": [
       "\u001b[1mModel: \"sequential_5\"\u001b[0m\n"
      ]
     },
     "metadata": {},
     "output_type": "display_data"
    },
    {
     "data": {
      "text/html": [
       "<pre style=\"white-space:pre;overflow-x:auto;line-height:normal;font-family:Menlo,'DejaVu Sans Mono',consolas,'Courier New',monospace\">┏━━━━━━━━━━━━━━━━━━━━━━━━━━━━━━━━━┳━━━━━━━━━━━━━━━━━━━━━━━━┳━━━━━━━━━━━━━━━┓\n",
       "┃<span style=\"font-weight: bold\"> Layer (type)                    </span>┃<span style=\"font-weight: bold\"> Output Shape           </span>┃<span style=\"font-weight: bold\">       Param # </span>┃\n",
       "┡━━━━━━━━━━━━━━━━━━━━━━━━━━━━━━━━━╇━━━━━━━━━━━━━━━━━━━━━━━━╇━━━━━━━━━━━━━━━┩\n",
       "│ embedding_4 (<span style=\"color: #0087ff; text-decoration-color: #0087ff\">Embedding</span>)         │ (<span style=\"color: #00af00; text-decoration-color: #00af00\">32</span>, <span style=\"color: #00af00; text-decoration-color: #00af00\">500</span>, <span style=\"color: #00af00; text-decoration-color: #00af00\">128</span>)         │     <span style=\"color: #00af00; text-decoration-color: #00af00\">1,280,000</span> │\n",
       "├─────────────────────────────────┼────────────────────────┼───────────────┤\n",
       "│ simple_rnn_3 (<span style=\"color: #0087ff; text-decoration-color: #0087ff\">SimpleRNN</span>)        │ (<span style=\"color: #00af00; text-decoration-color: #00af00\">32</span>, <span style=\"color: #00af00; text-decoration-color: #00af00\">128</span>)              │        <span style=\"color: #00af00; text-decoration-color: #00af00\">32,896</span> │\n",
       "├─────────────────────────────────┼────────────────────────┼───────────────┤\n",
       "│ dense_3 (<span style=\"color: #0087ff; text-decoration-color: #0087ff\">Dense</span>)                 │ (<span style=\"color: #00af00; text-decoration-color: #00af00\">32</span>, <span style=\"color: #00af00; text-decoration-color: #00af00\">1</span>)                │           <span style=\"color: #00af00; text-decoration-color: #00af00\">129</span> │\n",
       "└─────────────────────────────────┴────────────────────────┴───────────────┘\n",
       "</pre>\n"
      ],
      "text/plain": [
       "┏━━━━━━━━━━━━━━━━━━━━━━━━━━━━━━━━━┳━━━━━━━━━━━━━━━━━━━━━━━━┳━━━━━━━━━━━━━━━┓\n",
       "┃\u001b[1m \u001b[0m\u001b[1mLayer (type)                   \u001b[0m\u001b[1m \u001b[0m┃\u001b[1m \u001b[0m\u001b[1mOutput Shape          \u001b[0m\u001b[1m \u001b[0m┃\u001b[1m \u001b[0m\u001b[1m      Param #\u001b[0m\u001b[1m \u001b[0m┃\n",
       "┡━━━━━━━━━━━━━━━━━━━━━━━━━━━━━━━━━╇━━━━━━━━━━━━━━━━━━━━━━━━╇━━━━━━━━━━━━━━━┩\n",
       "│ embedding_4 (\u001b[38;5;33mEmbedding\u001b[0m)         │ (\u001b[38;5;34m32\u001b[0m, \u001b[38;5;34m500\u001b[0m, \u001b[38;5;34m128\u001b[0m)         │     \u001b[38;5;34m1,280,000\u001b[0m │\n",
       "├─────────────────────────────────┼────────────────────────┼───────────────┤\n",
       "│ simple_rnn_3 (\u001b[38;5;33mSimpleRNN\u001b[0m)        │ (\u001b[38;5;34m32\u001b[0m, \u001b[38;5;34m128\u001b[0m)              │        \u001b[38;5;34m32,896\u001b[0m │\n",
       "├─────────────────────────────────┼────────────────────────┼───────────────┤\n",
       "│ dense_3 (\u001b[38;5;33mDense\u001b[0m)                 │ (\u001b[38;5;34m32\u001b[0m, \u001b[38;5;34m1\u001b[0m)                │           \u001b[38;5;34m129\u001b[0m │\n",
       "└─────────────────────────────────┴────────────────────────┴───────────────┘\n"
      ]
     },
     "metadata": {},
     "output_type": "display_data"
    },
    {
     "data": {
      "text/html": [
       "<pre style=\"white-space:pre;overflow-x:auto;line-height:normal;font-family:Menlo,'DejaVu Sans Mono',consolas,'Courier New',monospace\"><span style=\"font-weight: bold\"> Total params: </span><span style=\"color: #00af00; text-decoration-color: #00af00\">1,313,027</span> (5.01 MB)\n",
       "</pre>\n"
      ],
      "text/plain": [
       "\u001b[1m Total params: \u001b[0m\u001b[38;5;34m1,313,027\u001b[0m (5.01 MB)\n"
      ]
     },
     "metadata": {},
     "output_type": "display_data"
    },
    {
     "data": {
      "text/html": [
       "<pre style=\"white-space:pre;overflow-x:auto;line-height:normal;font-family:Menlo,'DejaVu Sans Mono',consolas,'Courier New',monospace\"><span style=\"font-weight: bold\"> Trainable params: </span><span style=\"color: #00af00; text-decoration-color: #00af00\">1,313,025</span> (5.01 MB)\n",
       "</pre>\n"
      ],
      "text/plain": [
       "\u001b[1m Trainable params: \u001b[0m\u001b[38;5;34m1,313,025\u001b[0m (5.01 MB)\n"
      ]
     },
     "metadata": {},
     "output_type": "display_data"
    },
    {
     "data": {
      "text/html": [
       "<pre style=\"white-space:pre;overflow-x:auto;line-height:normal;font-family:Menlo,'DejaVu Sans Mono',consolas,'Courier New',monospace\"><span style=\"font-weight: bold\"> Non-trainable params: </span><span style=\"color: #00af00; text-decoration-color: #00af00\">0</span> (0.00 B)\n",
       "</pre>\n"
      ],
      "text/plain": [
       "\u001b[1m Non-trainable params: \u001b[0m\u001b[38;5;34m0\u001b[0m (0.00 B)\n"
      ]
     },
     "metadata": {},
     "output_type": "display_data"
    },
    {
     "data": {
      "text/html": [
       "<pre style=\"white-space:pre;overflow-x:auto;line-height:normal;font-family:Menlo,'DejaVu Sans Mono',consolas,'Courier New',monospace\"><span style=\"font-weight: bold\"> Optimizer params: </span><span style=\"color: #00af00; text-decoration-color: #00af00\">2</span> (12.00 B)\n",
       "</pre>\n"
      ],
      "text/plain": [
       "\u001b[1m Optimizer params: \u001b[0m\u001b[38;5;34m2\u001b[0m (12.00 B)\n"
      ]
     },
     "metadata": {},
     "output_type": "display_data"
    }
   ],
   "source": [
    "# Load the pretrained model with Relu activation\n",
    "model = load_model('simple_rnn_imdb.h5')\n",
    "model.summary()"
   ]
  },
  {
   "cell_type": "code",
   "execution_count": 4,
   "metadata": {},
   "outputs": [
    {
     "data": {
      "text/plain": [
       "[array([[ 1.3110986 , -1.3888073 ,  0.0528881 , ...,  1.28618   ,\n",
       "         -1.2922039 ,  0.08952206],\n",
       "        [ 0.04785324, -0.07280072, -0.09767161, ...,  0.02438985,\n",
       "         -0.06948517, -0.0231459 ],\n",
       "        [ 0.08472697, -0.07407714, -0.0507183 , ...,  0.02963671,\n",
       "         -0.09739198, -0.09820816],\n",
       "        ...,\n",
       "        [-0.05749137, -0.02003622, -0.08284621, ...,  0.08487601,\n",
       "          0.06128859, -0.03569738],\n",
       "        [-0.02115135, -0.03264552,  0.20975079, ...,  0.1742573 ,\n",
       "          0.02731376,  0.04633584],\n",
       "        [-0.05533715,  0.05941721, -0.03975734, ..., -0.1317647 ,\n",
       "          0.17598653, -0.16031119]], dtype=float32),\n",
       " array([[-0.14615606,  0.11496769,  0.10573078, ..., -0.11889315,\n",
       "         -0.04027952,  0.01046093],\n",
       "        [ 0.04729694,  0.11091533,  0.05927063, ...,  0.09668472,\n",
       "         -0.0485774 , -0.12023725],\n",
       "        [-0.03248472, -0.10315569, -0.03693528, ..., -0.08745725,\n",
       "          0.13491313, -0.02343482],\n",
       "        ...,\n",
       "        [ 0.1515895 , -0.12104073,  0.0428138 , ...,  0.08807588,\n",
       "         -0.04140909,  0.10643322],\n",
       "        [ 0.08055142, -0.03187774, -0.02237088, ..., -0.0358395 ,\n",
       "          0.12067162,  0.06608372],\n",
       "        [-0.1149863 , -0.12084705,  0.10272352, ...,  0.01236063,\n",
       "          0.01200137, -0.02397105]], dtype=float32),\n",
       " array([[-0.02823623,  0.08130108,  0.23373948, ..., -0.02309244,\n",
       "          0.10212389, -0.04640016],\n",
       "        [ 0.00418654, -0.02738119, -0.11043357, ...,  0.00639533,\n",
       "          0.06984653, -0.0098623 ],\n",
       "        [-0.11470906,  0.10077804,  0.06139436, ..., -0.04697523,\n",
       "          0.06967784,  0.06121153],\n",
       "        ...,\n",
       "        [-0.01512237,  0.00556272,  0.00079782, ..., -0.13962848,\n",
       "         -0.09735205, -0.20990124],\n",
       "        [-0.03727471,  0.03526168,  0.06104715, ...,  0.02135022,\n",
       "         -0.00269208,  0.15332657],\n",
       "        [ 0.1268599 ,  0.02914832, -0.0286565 , ..., -0.03487401,\n",
       "         -0.03106155, -0.08865403]], dtype=float32),\n",
       " array([-1.70239694e-02,  1.38980495e-02, -2.85667498e-02, -2.34452374e-02,\n",
       "        -2.38551665e-02,  1.73617247e-02, -9.31602251e-03, -6.81788474e-03,\n",
       "        -3.76971215e-02,  7.34720286e-03,  8.96526035e-03,  1.92094222e-02,\n",
       "        -1.93504000e-03, -1.87660120e-02,  3.61221959e-04,  5.10307215e-03,\n",
       "         1.84956472e-02, -1.62949022e-02,  2.05962937e-02, -1.30492784e-02,\n",
       "        -1.68525111e-02, -1.14017623e-02,  6.00554654e-03, -2.76015326e-02,\n",
       "         6.66875839e-02,  2.27611195e-02,  1.84300262e-02,  4.02804185e-03,\n",
       "         6.43900968e-03,  1.08691510e-02,  1.53551940e-02,  7.55884266e-03,\n",
       "        -3.34260613e-02, -2.16177180e-02, -2.26074681e-02,  2.25654673e-02,\n",
       "        -6.31440710e-03, -1.31306369e-02, -6.25821250e-03, -3.03932279e-02,\n",
       "        -1.80474985e-02,  1.37414234e-02,  7.11904932e-03, -1.57271400e-02,\n",
       "         1.05278064e-02, -6.97451271e-03,  8.43502115e-03,  1.22468518e-02,\n",
       "         2.59948941e-03, -2.15937588e-02,  1.20340092e-02, -1.60614643e-02,\n",
       "        -7.69444043e-03, -9.68913175e-03,  1.69848893e-02, -1.40393265e-02,\n",
       "        -3.04221418e-02, -4.22421517e-03, -1.77930836e-02,  1.54980225e-05,\n",
       "         2.14754418e-02, -1.88907851e-02, -2.01854180e-03,  1.31910783e-03,\n",
       "         2.10403875e-02,  5.74654434e-04, -2.33407989e-02, -7.23510794e-03,\n",
       "         2.98259733e-03,  1.24606898e-03,  5.87010616e-03, -1.43057397e-02,\n",
       "         1.16666872e-02, -7.94569869e-03,  1.18851336e-02,  7.98478816e-03,\n",
       "         1.41542070e-02, -3.16546229e-03, -2.25518271e-02, -3.25352028e-02,\n",
       "        -1.59994625e-02,  9.53010097e-03, -1.31506016e-02, -8.18383042e-03,\n",
       "        -1.05236669e-03,  4.72314097e-03, -3.46201770e-02,  1.30587384e-01,\n",
       "        -2.00510547e-02, -2.22974978e-02,  1.70786474e-02, -6.01227675e-03,\n",
       "        -1.92973446e-02,  3.01276539e-02, -2.66743787e-02,  1.23305824e-02,\n",
       "        -1.85878798e-02, -2.85435002e-04,  1.05026709e-02,  4.64485213e-02,\n",
       "        -1.91067401e-02,  5.14928775e-04,  2.42497912e-03, -1.44704757e-02,\n",
       "         4.12048306e-03,  2.37485096e-02,  3.68845905e-03, -1.02721201e-02,\n",
       "         2.04136986e-02, -1.46228075e-02, -2.57087108e-02,  5.69650531e-03,\n",
       "        -3.51411500e-03, -2.01484747e-02, -1.42324083e-02, -1.36291292e-02,\n",
       "         1.27326800e-02, -1.67523250e-02, -7.29651470e-03,  5.37689961e-03,\n",
       "         2.18236111e-02, -1.49814356e-02, -1.82373486e-02, -8.19507055e-04,\n",
       "        -1.35757960e-02,  1.08161420e-02, -8.17780755e-03, -1.38860019e-02],\n",
       "       dtype=float32),\n",
       " array([[-6.70160502e-02],\n",
       "        [ 1.98614433e-01],\n",
       "        [ 2.47056186e-02],\n",
       "        [ 1.58534944e-01],\n",
       "        [-1.27363622e-01],\n",
       "        [ 2.14161247e-01],\n",
       "        [ 1.55249774e-01],\n",
       "        [-2.16126472e-01],\n",
       "        [ 7.53657147e-02],\n",
       "        [ 2.18406618e-01],\n",
       "        [ 2.30694413e-02],\n",
       "        [ 2.78931279e-02],\n",
       "        [-2.27903768e-01],\n",
       "        [-9.13834870e-02],\n",
       "        [ 5.07975399e-01],\n",
       "        [ 4.77980897e-02],\n",
       "        [-1.73531182e-03],\n",
       "        [ 1.33886263e-01],\n",
       "        [-2.04940319e-01],\n",
       "        [-6.33812472e-02],\n",
       "        [-4.82773259e-02],\n",
       "        [-8.45376551e-02],\n",
       "        [ 6.09401166e-02],\n",
       "        [ 3.30760896e-01],\n",
       "        [-8.12156677e-01],\n",
       "        [-2.05081373e-01],\n",
       "        [ 1.28145441e-01],\n",
       "        [ 2.35067874e-01],\n",
       "        [ 1.11044727e-01],\n",
       "        [-1.10961223e+00],\n",
       "        [-1.35198861e-01],\n",
       "        [ 2.04965934e-01],\n",
       "        [-1.00286804e-01],\n",
       "        [-2.02620530e+00],\n",
       "        [ 5.74671626e-01],\n",
       "        [ 1.23900659e-01],\n",
       "        [ 2.27012873e-01],\n",
       "        [-1.41247287e-01],\n",
       "        [-2.24160433e-01],\n",
       "        [ 1.04560249e-01],\n",
       "        [ 1.60376906e-01],\n",
       "        [-3.68502289e-02],\n",
       "        [ 5.72979897e-02],\n",
       "        [-4.02968377e-02],\n",
       "        [ 2.24152848e-01],\n",
       "        [-1.30797192e-01],\n",
       "        [ 2.52494335e-01],\n",
       "        [-6.95798025e-02],\n",
       "        [ 5.19951209e-02],\n",
       "        [-1.88144773e-01],\n",
       "        [ 5.51951416e-02],\n",
       "        [-6.00171871e-02],\n",
       "        [-4.17471230e-01],\n",
       "        [ 2.12676272e-01],\n",
       "        [-1.91499874e-01],\n",
       "        [ 1.43572558e-02],\n",
       "        [-3.19944113e-03],\n",
       "        [-2.52592236e-01],\n",
       "        [-4.89489734e-02],\n",
       "        [ 7.16401637e-01],\n",
       "        [ 9.65372249e-02],\n",
       "        [ 1.78137258e-01],\n",
       "        [ 6.59844577e-02],\n",
       "        [ 3.65829058e-02],\n",
       "        [ 1.14708662e-01],\n",
       "        [ 9.55898035e-03],\n",
       "        [-5.41285239e-02],\n",
       "        [-3.94719362e-01],\n",
       "        [ 7.61991292e-02],\n",
       "        [-6.91706359e-01],\n",
       "        [ 1.58168107e-01],\n",
       "        [ 2.33342737e-01],\n",
       "        [ 1.07146204e-01],\n",
       "        [-1.56064779e-01],\n",
       "        [-1.47445858e-01],\n",
       "        [-7.60923550e-02],\n",
       "        [ 2.12521210e-01],\n",
       "        [-1.40942335e-02],\n",
       "        [-1.16627343e-01],\n",
       "        [-2.06190079e-01],\n",
       "        [ 1.83362830e-02],\n",
       "        [-3.24762724e-02],\n",
       "        [-1.10730670e-01],\n",
       "        [ 5.24546206e-02],\n",
       "        [-1.51787803e-01],\n",
       "        [ 8.89724027e-03],\n",
       "        [ 4.08669375e-02],\n",
       "        [-6.29128993e-01],\n",
       "        [ 7.63498992e-02],\n",
       "        [-4.90916818e-02],\n",
       "        [ 1.04631886e-01],\n",
       "        [-1.55484499e-02],\n",
       "        [-3.39045674e-01],\n",
       "        [ 1.79908574e-01],\n",
       "        [ 1.93836227e-01],\n",
       "        [-2.48161610e-02],\n",
       "        [-6.54456019e-02],\n",
       "        [ 1.64881542e-01],\n",
       "        [ 2.12722588e-02],\n",
       "        [-1.43915623e-01],\n",
       "        [-1.68172896e-01],\n",
       "        [-7.27449134e-02],\n",
       "        [ 9.60822180e-02],\n",
       "        [ 5.79022244e-03],\n",
       "        [ 4.16930318e-01],\n",
       "        [-5.54318056e-02],\n",
       "        [ 4.33114916e-02],\n",
       "        [-2.43183523e-01],\n",
       "        [ 1.21510796e-01],\n",
       "        [ 1.63969219e-01],\n",
       "        [ 4.27651794e-05],\n",
       "        [-1.31082073e-01],\n",
       "        [-6.96638048e-01],\n",
       "        [ 5.70197627e-02],\n",
       "        [ 2.30453491e-01],\n",
       "        [-7.47387186e-02],\n",
       "        [-3.13937999e-02],\n",
       "        [ 1.14779174e-03],\n",
       "        [-2.52084225e-01],\n",
       "        [-4.68047224e-02],\n",
       "        [ 1.16694115e-01],\n",
       "        [ 1.49575859e-01],\n",
       "        [-2.79966667e-02],\n",
       "        [-1.07533813e+00],\n",
       "        [-1.07693903e-01],\n",
       "        [ 2.57292241e-02],\n",
       "        [-1.37501687e-01],\n",
       "        [-1.14027895e-01]], dtype=float32),\n",
       " array([-0.24937476], dtype=float32)]"
      ]
     },
     "execution_count": 4,
     "metadata": {},
     "output_type": "execute_result"
    }
   ],
   "source": [
    "model.get_weights()"
   ]
  },
  {
   "cell_type": "code",
   "execution_count": 6,
   "metadata": {},
   "outputs": [],
   "source": [
    "# step 2 :Helper function\n",
    "# Function to decode reviews\n",
    "\n",
    "def decode_review(encoded_review):\n",
    "    return ' '.join([reversed_word_index.get(i-3,'?') for i in encoded_review])\n",
    "\n",
    "# function to preprocess the user input\n",
    "def preprocess_text(text):\n",
    "    words = text.lower().split()\n",
    "    encoded_review = [word_index.get(word,2)+3 for word in words]\n",
    "    padded_review = sequence.pad_sequences([encoded_review],maxlen =500)\n",
    "    return padded_review"
   ]
  },
  {
   "cell_type": "code",
   "execution_count": 8,
   "metadata": {},
   "outputs": [],
   "source": [
    "#Step3: Prediction function \n",
    "\n",
    "def predict_sentiment(review):\n",
    "    preprocessed_input = preprocess_text(review)\n",
    "\n",
    "    prediction = model.predict(preprocessed_input)\n",
    "\n",
    "    sentiment = 'Positive' if prediction[0][0]>0.5 else 'Negative'\n",
    "\n",
    "    return sentiment,prediction[0][0]"
   ]
  },
  {
   "cell_type": "code",
   "execution_count": 9,
   "metadata": {},
   "outputs": [
    {
     "name": "stdout",
     "output_type": "stream",
     "text": [
      "\u001b[1m1/1\u001b[0m \u001b[32m━━━━━━━━━━━━━━━━━━━━\u001b[0m\u001b[37m\u001b[0m \u001b[1m0s\u001b[0m 404ms/step\n",
      "Review: The movie was fantastic! The acting was great and the plot was thrilling\n",
      "Sentiment: Positive\n",
      "Prediction score:0.7911933660507202\n"
     ]
    }
   ],
   "source": [
    "# Step 4: User input & Prediction\n",
    "# Example review for prediction\n",
    "\n",
    "example_review = \"The movie was fantastic! The acting was great and the plot was thrilling\"\n",
    "\n",
    "sentiment, score = predict_sentiment(example_review)\n",
    "\n",
    "print(f'Review: {example_review}')\n",
    "print(f'Sentiment: {sentiment}')\n",
    "print(f'Prediction score:{score}')"
   ]
  },
  {
   "cell_type": "code",
   "execution_count": null,
   "metadata": {},
   "outputs": [],
   "source": []
  }
 ],
 "metadata": {
  "kernelspec": {
   "display_name": "Python 3",
   "language": "python",
   "name": "python3"
  },
  "language_info": {
   "codemirror_mode": {
    "name": "ipython",
    "version": 3
   },
   "file_extension": ".py",
   "mimetype": "text/x-python",
   "name": "python",
   "nbconvert_exporter": "python",
   "pygments_lexer": "ipython3",
   "version": "3.12.0"
  }
 },
 "nbformat": 4,
 "nbformat_minor": 2
}
